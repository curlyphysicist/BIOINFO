{
 "cells": [
  {
   "cell_type": "markdown",
   "metadata": {},
   "source": [
    "## Формирование выборки обучающих данных для задачи классификации (распознавание гистоновых меток)"
   ]
  },
  {
   "cell_type": "raw",
   "metadata": {},
   "source": [
    "(!!!) Когда займёшься созданием полной выборки (не только по 21й хромосоме), поправь код в сторону лаконичности.\n",
    "По способу задания массивов (генераторы) и вообще, будет быстрее работать и лучше выглядеть."
   ]
  },
  {
   "cell_type": "code",
   "execution_count": null,
   "metadata": {},
   "outputs": [],
   "source": [
    "import pandas as pd\n",
    "import os\n",
    "import numpy as np"
   ]
  },
  {
   "cell_type": "code",
   "execution_count": null,
   "metadata": {},
   "outputs": [],
   "source": [
    "#chrs = ['chr'+str(n) for n in range (1,23)] + ['chrX', 'chrY', 'chrM']\n",
    "chrs = ['chr'+str(n) for n in range (1,4)]\n",
    "print(chrs)"
   ]
  },
  {
   "cell_type": "code",
   "execution_count": null,
   "metadata": {},
   "outputs": [],
   "source": [
    "histone_map = \"E001-H3K27me3.imputed.narrowPeak.bed.nPk\""
   ]
  },
  {
   "cell_type": "code",
   "execution_count": null,
   "metadata": {},
   "outputs": [],
   "source": [
    "data_h = pd.read_csv(histone_map, header=None, sep = '\\t')"
   ]
  },
  {
   "cell_type": "markdown",
   "metadata": {},
   "source": [
    "### Нормировка участков, соответствующих положениям гистоновых меток (центр+-100bp)"
   ]
  },
  {
   "cell_type": "code",
   "execution_count": null,
   "metadata": {},
   "outputs": [],
   "source": [
    "for i in range (0, len(data_h)):\n",
    "    middle = int(round((data_h.iloc[i,2] + data_h.iloc[i,1])/2,0))\n",
    "    data_h.iloc[i,1] = middle - 100\n",
    "    data_h.iloc[i,2] = middle + 100"
   ]
  },
  {
   "cell_type": "markdown",
   "metadata": {},
   "source": [
    "### Сборка участков sequence, соответствующих положениям гистоновых меток, в массивы"
   ]
  },
  {
   "cell_type": "code",
   "execution_count": null,
   "metadata": {},
   "outputs": [],
   "source": [
    "array_yes = []; array_no = []\n",
    "\n",
    "for ch in chrs:\n",
    "    chromFa =  \"chromFa_hg19/%s.fa\" % (ch)\n",
    "    data_c = pd.read_csv(chromFa, sep = '\\t')\n",
    "    print(ch)\n",
    "\n",
    "    string_chr = ''\n",
    "    for i in range(0, len(data_c)):\n",
    "        string_chr += data_c.iloc[i,0].upper()\n",
    "    flag = 0\n",
    "\n",
    "    for j in range (0, len(data_h)):\n",
    "        if (data_h.iloc[j,0] == ch):\n",
    "            start_yes = data_h.iloc[j,1]\n",
    "            end_yes = data_h.iloc[j,2]\n",
    "            el_yes = string_chr[start_yes:end_yes]\n",
    "            if (flag == 0):\n",
    "                start_no = 0\n",
    "            else:\n",
    "                start_no = data_h.iloc[j-1,2]\n",
    "            flag = 1\n",
    "            if 'N' not in el_yes:\n",
    "                array_yes.append(el_yes)\n",
    "                \n",
    "            # Формируем участки по 200bp для array_no\n",
    "            for k in range (start_no, start_yes, 200):\n",
    "                if ((k+200) <= start_yes):\n",
    "                    el_no = string_chr[k:k+200]\n",
    "                    if (len(el_no)==200):\n",
    "                        if 'N' not in el_no:\n",
    "                            array_no.append(el_no)\n",
    "        else:\n",
    "            if (flag == 1):\n",
    "                for k in range (end_yes, len(data_c)*50, 200):\n",
    "                    if ((k+200) <= len(data_c)*50):\n",
    "                        el_no = string_chr[k:k+200]\n",
    "                        if (len(el_no)==200):\n",
    "                            if 'N' not in el_no:\n",
    "                                if el_no not in array_no:\n",
    "                                    array_no.append(el_no)"
   ]
  },
  {
   "cell_type": "markdown",
   "metadata": {},
   "source": [
    "### Делаем DataFrame с двумя классами"
   ]
  },
  {
   "cell_type": "code",
   "execution_count": null,
   "metadata": {},
   "outputs": [],
   "source": [
    "df_all = pd.DataFrame(columns = ['class', 'sequence'])"
   ]
  },
  {
   "cell_type": "code",
   "execution_count": null,
   "metadata": {},
   "outputs": [],
   "source": [
    "for i in range (0, len(array_yes)):\n",
    "    df_all.loc[i,'sequence'] = array_yes[i]\n",
    "    df_all.loc[i,'class'] = 'yes'\n",
    "for i in range (0, len(array_no)):\n",
    "    df_all.loc[i+len(array_yes),'sequence'] = array_no[i]\n",
    "    df_all.loc[i+len(array_yes),'class'] = 'no'\n",
    "print('okay')"
   ]
  },
  {
   "cell_type": "raw",
   "metadata": {},
   "source": [
    "Предыдущий cell очень долго работает. Подумай как оптимизировать"
   ]
  },
  {
   "cell_type": "code",
   "execution_count": null,
   "metadata": {},
   "outputs": [],
   "source": [
    "df_all"
   ]
  },
  {
   "cell_type": "code",
   "execution_count": null,
   "metadata": {},
   "outputs": [],
   "source": [
    "file_df = open('df[1-3].csv', 'w')\n",
    "for i in range(0,len(df_all)):\n",
    "    file_df.write(str(df_all.iloc[i,0]))\n",
    "    file_df.write('\\t')\n",
    "    file_df.write(str(df_all.iloc[i,1]))\n",
    "    file_df.write('\\n')\n",
    "file_df.close()"
   ]
  },
  {
   "cell_type": "markdown",
   "metadata": {},
   "source": [
    "### One hot encoding"
   ]
  },
  {
   "cell_type": "code",
   "execution_count": null,
   "metadata": {},
   "outputs": [],
   "source": [
    "df = pd.read_csv('df.csv', sep = '\\t', header = None)"
   ]
  },
  {
   "cell_type": "code",
   "execution_count": null,
   "metadata": {},
   "outputs": [],
   "source": [
    "[[type(i) == str for i in df[1].values]]"
   ]
  },
  {
   "cell_type": "code",
   "execution_count": null,
   "metadata": {},
   "outputs": [],
   "source": [
    "enc = {  'A':[1,0,0,0], \n",
    "         'C':[0,1,0,0], \n",
    "         'G':[0,0,1,0], \n",
    "         'T':[0,0,0,1]}"
   ]
  },
  {
   "cell_type": "code",
   "execution_count": null,
   "metadata": {},
   "outputs": [],
   "source": [
    "df_encoded = np.array([[enc[char] for char in i] for i in df[1].values])"
   ]
  },
  {
   "cell_type": "code",
   "execution_count": null,
   "metadata": {},
   "outputs": [],
   "source": [
    "df_encoded.shape"
   ]
  },
  {
   "cell_type": "code",
   "execution_count": null,
   "metadata": {},
   "outputs": [],
   "source": [
    "X = df_encoded"
   ]
  },
  {
   "cell_type": "code",
   "execution_count": null,
   "metadata": {},
   "outputs": [],
   "source": [
    "y = (df[0] == 'yes').values.astype(np.int)"
   ]
  }
 ],
 "metadata": {
  "kernelspec": {
   "display_name": "Python 3",
   "language": "python",
   "name": "python3"
  },
  "language_info": {
   "codemirror_mode": {
    "name": "ipython",
    "version": 3
   },
   "file_extension": ".py",
   "mimetype": "text/x-python",
   "name": "python",
   "nbconvert_exporter": "python",
   "pygments_lexer": "ipython3",
   "version": "3.6.6"
  }
 },
 "nbformat": 4,
 "nbformat_minor": 2
}
